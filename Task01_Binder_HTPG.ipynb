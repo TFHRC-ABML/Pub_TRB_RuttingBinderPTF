{
 "cells": [
  {
   "cell_type": "markdown",
   "id": "e5dfd6d7",
   "metadata": {},
   "source": [
    "# Analysis & Plot the Asphalt Binder HTPG Test\n",
    "\n",
    "This notebook includes the codes for plotting and statistical analysis on the results of High-Temperature Performance Grade (HTPG) test on different recovered and tank binders used in the PTF lanes. \n",
    "\n",
    "Author: Farhad Abdollahi (farhad.abdollahi.ctr@dot.gov) \n",
    "\n",
    "Date: 05/19/2025\n",
    "\n",
    "___"
   ]
  },
  {
   "cell_type": "code",
   "execution_count": 15,
   "id": "e4ad7164",
   "metadata": {},
   "outputs": [],
   "source": [
    "# Importing the required libraries. \n",
    "import os\n",
    "import pickle\n",
    "import numpy as np\n",
    "import pandas as pd \n",
    "import matplotlib.pyplot as plt\n",
    "from scripts.Statistical_Analysis import Tukey_Grouping\n",
    "from scipy.stats import ttest_ind, t"
   ]
  },
  {
   "cell_type": "code",
   "execution_count": 16,
   "id": "54d665b2",
   "metadata": {},
   "outputs": [],
   "source": [
    "# User input variables. \n",
    "MainDataFileName = './data/Data.xlsx'\n",
    "OutputDir        = '../_Figures'"
   ]
  },
  {
   "cell_type": "markdown",
   "id": "f9f97d3e",
   "metadata": {},
   "source": [
    "_______\n"
   ]
  },
  {
   "cell_type": "code",
   "execution_count": 17,
   "id": "a1f02f36",
   "metadata": {},
   "outputs": [
    {
     "data": {
      "text/html": [
       "<div>\n",
       "<style scoped>\n",
       "    .dataframe tbody tr th:only-of-type {\n",
       "        vertical-align: middle;\n",
       "    }\n",
       "\n",
       "    .dataframe tbody tr th {\n",
       "        vertical-align: top;\n",
       "    }\n",
       "\n",
       "    .dataframe thead th {\n",
       "        text-align: right;\n",
       "    }\n",
       "</style>\n",
       "<table border=\"1\" class=\"dataframe\">\n",
       "  <thead>\n",
       "    <tr style=\"text-align: right;\">\n",
       "      <th></th>\n",
       "      <th>Lane</th>\n",
       "      <th>Field_Aging</th>\n",
       "      <th>Lab_Aging</th>\n",
       "      <th>ID</th>\n",
       "      <th>RepNum</th>\n",
       "      <th>HTPG</th>\n",
       "    </tr>\n",
       "  </thead>\n",
       "  <tbody>\n",
       "    <tr>\n",
       "      <th>0</th>\n",
       "      <td>1</td>\n",
       "      <td>0-Month</td>\n",
       "      <td>NaN</td>\n",
       "      <td>7196</td>\n",
       "      <td>1</td>\n",
       "      <td>81.7</td>\n",
       "    </tr>\n",
       "    <tr>\n",
       "      <th>1</th>\n",
       "      <td>1</td>\n",
       "      <td>0-Month</td>\n",
       "      <td>NaN</td>\n",
       "      <td>7196</td>\n",
       "      <td>2</td>\n",
       "      <td>81.9</td>\n",
       "    </tr>\n",
       "    <tr>\n",
       "      <th>2</th>\n",
       "      <td>1</td>\n",
       "      <td>0-Month</td>\n",
       "      <td>NaN</td>\n",
       "      <td>7196</td>\n",
       "      <td>3</td>\n",
       "      <td>83.0</td>\n",
       "    </tr>\n",
       "    <tr>\n",
       "      <th>3</th>\n",
       "      <td>2</td>\n",
       "      <td>0-Month</td>\n",
       "      <td>NaN</td>\n",
       "      <td>7197</td>\n",
       "      <td>1</td>\n",
       "      <td>79.8</td>\n",
       "    </tr>\n",
       "    <tr>\n",
       "      <th>4</th>\n",
       "      <td>2</td>\n",
       "      <td>0-Month</td>\n",
       "      <td>NaN</td>\n",
       "      <td>7197</td>\n",
       "      <td>2</td>\n",
       "      <td>80.0</td>\n",
       "    </tr>\n",
       "  </tbody>\n",
       "</table>\n",
       "</div>"
      ],
      "text/plain": [
       "   Lane Field_Aging Lab_Aging    ID  RepNum  HTPG\n",
       "0     1     0-Month       NaN  7196       1  81.7\n",
       "1     1     0-Month       NaN  7196       2  81.9\n",
       "2     1     0-Month       NaN  7196       3  83.0\n",
       "3     2     0-Month       NaN  7197       1  79.8\n",
       "4     2     0-Month       NaN  7197       2  80.0"
      ]
     },
     "execution_count": 17,
     "metadata": {},
     "output_type": "execute_result"
    }
   ],
   "source": [
    "# Read the HTPG results. \n",
    "HTPG = pd.read_excel(MainDataFileName, sheet_name='HTPG', usecols='A:F', skiprows=1, \n",
    "                     names=['Lane', 'Field_Aging', 'Lab_Aging', 'ID', 'RepNum', 'HTPG'])\n",
    "HTPG.head()"
   ]
  },
  {
   "cell_type": "code",
   "execution_count": 18,
   "id": "1b50e6ff",
   "metadata": {},
   "outputs": [
    {
     "data": {
      "text/html": [
       "<div>\n",
       "<style scoped>\n",
       "    .dataframe tbody tr th:only-of-type {\n",
       "        vertical-align: middle;\n",
       "    }\n",
       "\n",
       "    .dataframe tbody tr th {\n",
       "        vertical-align: top;\n",
       "    }\n",
       "\n",
       "    .dataframe thead th {\n",
       "        text-align: right;\n",
       "    }\n",
       "</style>\n",
       "<table border=\"1\" class=\"dataframe\">\n",
       "  <thead>\n",
       "    <tr style=\"text-align: right;\">\n",
       "      <th></th>\n",
       "      <th>Lane</th>\n",
       "      <th>Field_Aging</th>\n",
       "      <th>HTPG_Mean</th>\n",
       "      <th>HTPG_Std</th>\n",
       "      <th>Num_Data</th>\n",
       "      <th>HTPG_Values</th>\n",
       "    </tr>\n",
       "  </thead>\n",
       "  <tbody>\n",
       "    <tr>\n",
       "      <th>0</th>\n",
       "      <td>1</td>\n",
       "      <td>0-Month</td>\n",
       "      <td>82.200000</td>\n",
       "      <td>0.571548</td>\n",
       "      <td>3</td>\n",
       "      <td>81.7,81.9,83.0</td>\n",
       "    </tr>\n",
       "    <tr>\n",
       "      <th>1</th>\n",
       "      <td>1</td>\n",
       "      <td>Tank binder</td>\n",
       "      <td>71.700000</td>\n",
       "      <td>0.200000</td>\n",
       "      <td>2</td>\n",
       "      <td>71.5,71.9</td>\n",
       "    </tr>\n",
       "    <tr>\n",
       "      <th>2</th>\n",
       "      <td>2</td>\n",
       "      <td>0-Month</td>\n",
       "      <td>80.166667</td>\n",
       "      <td>0.385861</td>\n",
       "      <td>3</td>\n",
       "      <td>79.8,80.0,80.7</td>\n",
       "    </tr>\n",
       "    <tr>\n",
       "      <th>3</th>\n",
       "      <td>2</td>\n",
       "      <td>Tank binder</td>\n",
       "      <td>68.111872</td>\n",
       "      <td>0.142407</td>\n",
       "      <td>2</td>\n",
       "      <td>68.3,68.0</td>\n",
       "    </tr>\n",
       "    <tr>\n",
       "      <th>4</th>\n",
       "      <td>3</td>\n",
       "      <td>0-Month</td>\n",
       "      <td>77.400000</td>\n",
       "      <td>0.432049</td>\n",
       "      <td>3</td>\n",
       "      <td>77.0,77.2,78.0</td>\n",
       "    </tr>\n",
       "  </tbody>\n",
       "</table>\n",
       "</div>"
      ],
      "text/plain": [
       "   Lane  Field_Aging  HTPG_Mean  HTPG_Std  Num_Data     HTPG_Values\n",
       "0     1      0-Month  82.200000  0.571548         3  81.7,81.9,83.0\n",
       "1     1  Tank binder  71.700000  0.200000         2       71.5,71.9\n",
       "2     2      0-Month  80.166667  0.385861         3  79.8,80.0,80.7\n",
       "3     2  Tank binder  68.111872  0.142407         2       68.3,68.0\n",
       "4     3      0-Month  77.400000  0.432049         3  77.0,77.2,78.0"
      ]
     },
     "execution_count": 18,
     "metadata": {},
     "output_type": "execute_result"
    }
   ],
   "source": [
    "# Create a new dictionary for the analyzed results. \n",
    "HTPGRes = {'Lane': [], 'Field_Aging': [], 'HTPG_Mean': [], 'HTPG_Std': [], 'Num_Data': [], 'HTPG_Values': []}\n",
    "# Calculate the average and std of the measurements. \n",
    "for ln in HTPG['Lane'].unique():            # Iterate over different lanes. \n",
    "    HTPG_L = HTPG[HTPG['Lane'] == ln]\n",
    "    for age in HTPG_L['Field_Aging'].unique():      # Iterate over the field aging (tank binder or 0-month recovered binder)\n",
    "        HTPG_LF = HTPG_L[HTPG_L['Field_Aging'] == age]\n",
    "        if age == 'Tank binder':    # For the tank binders, need to calculate HTPG based on minimum of Unaged and RTFO-aged levels. \n",
    "            Values_Unaged = HTPG_LF[HTPG_LF['Lab_Aging'] == 'Unaged']['HTPG'].to_numpy()\n",
    "            Values_RTFO   = HTPG_LF[HTPG_LF['Lab_Aging'] == 'RTFO']['HTPG'].to_numpy()\n",
    "            if Values_Unaged.mean() < Values_RTFO.mean():\n",
    "                Values = Values_Unaged.copy()\n",
    "            else:\n",
    "                Values = Values_RTFO.copy()\n",
    "        else:                       # For the recovered binder, only have one aging level. \n",
    "            Values  = HTPG_LF['HTPG'].to_numpy()\n",
    "        # Calculate the mean and std. \n",
    "        Mean    = Values.mean()\n",
    "        Std     = Values.std()\n",
    "        # Store the results. \n",
    "        HTPGRes['Lane'].append(ln)\n",
    "        HTPGRes['Field_Aging'].append(age)\n",
    "        HTPGRes['HTPG_Mean'].append(Mean)\n",
    "        HTPGRes['HTPG_Std'].append(Std)\n",
    "        HTPGRes['Num_Data'].append(len(Values))\n",
    "        HTPGRes['HTPG_Values'].append(','.join(map(str, np.round(Values, 1))))\n",
    "# Convert the \"HTPGRes\" to a dataframe. \n",
    "HTPGRes = pd.DataFrame(HTPGRes)\n",
    "HTPGRes = HTPGRes.sort_values(by=['Lane', 'Field_Aging'])\n",
    "HTPGRes.head()"
   ]
  },
  {
   "cell_type": "markdown",
   "id": "ec08733d",
   "metadata": {},
   "source": [
    "### Now plotting the same results based on the binder types. \n",
    "\n",
    "In this section we have grouped the binders into: (i) controls with 20% RAP, lanes 3, 6, 9, (ii) polymer modified with 20% RAP, lanes 1, 2, 4; (iii) high-RAP with 40% RAP, lanes 5, 7, 8; and (iv) No RAP lane 10. "
   ]
  },
  {
   "cell_type": "code",
   "execution_count": 19,
   "id": "7cd38e59",
   "metadata": {},
   "outputs": [
    {
     "data": {
      "image/png": "[encoded data removed]",
      "text/plain": [
       "<Figure size 600x350 with 1 Axes>"
      ]
     },
     "metadata": {},
     "output_type": "display_data"
    }
   ],
   "source": [
    "fig, ax = plt.subplots(1, 1, figsize=(6, 3.5))\n",
    "ax.axvspan(xmin=-1,   xmax=7.0, color='gray', alpha=0.1)\n",
    "ax.axvspan(xmin=15.2, xmax=23.4, color='gray', alpha=0.1)\n",
    "XPositions = np.array([2.4 * i + j + 0.0 for i in range(0, 3) for j in range(2)] + \\\n",
    "                      [2.4 * i + j + 1.0 for i in range(3, 6) for j in range(2)] + \\\n",
    "                      [2.4 * i + j + 2.0 for i in range(6, 9) for j in range(2)] + \\\n",
    "                      [2.4 * i + j + 3.0 for i in range(9, 10) for j in range(2)])\n",
    "ax.bar(XPositions[::2], \n",
    "       height=HTPGRes['HTPG_Mean'].to_numpy()[[5, 11, 17, 1, 3, 7, 9, 13, 15, 19]], \n",
    "       yerr=HTPGRes['HTPG_Std'].to_numpy()[[5, 11, 17, 1, 3, 7, 9, 13, 15, 19]], \n",
    "       width=0.8, edgecolor='dimgray', lw=0.5, color='skyblue', hatch='//', label='Tank binder',\n",
    "       error_kw={'capsize': 4, 'capthick': 1.5, 'elinewidth': 1.5, 'ecolor': 'black'})\n",
    "ax.bar(XPositions[1::2], \n",
    "       height=HTPGRes['HTPG_Mean'].to_numpy()[[4, 10, 16, 0, 2, 6, 8, 12, 14, 18]], \n",
    "       yerr=HTPGRes['HTPG_Std'].to_numpy()[[4, 10, 16, 0, 2, 6, 8, 12, 14, 18]], \n",
    "       width=0.8, edgecolor='dimgray', lw=0.5, color='tomato', hatch='..', label='Recovered binder', \n",
    "       error_kw={'capsize': 4, 'capthick': 1.5, 'elinewidth': 1.5, 'ecolor': 'black'})\n",
    "ax.set_yticks([58, 64, 70, 76, 82, 88])\n",
    "ax.set_ylim([60, 90])\n",
    "ax.set_xticks(XPositions[::2] + 0.5)\n",
    "ax.set_xticklabels([f'L{i}' for i in [3, 6, 9, 1, 2, 4, 5, 7, 8, 10]], fontsize=10, color='k', rotation=0)\n",
    "ax.set_ylabel('HTPG (°C)', fontsize=12, fontweight='bold', color='k')\n",
    "ax.set_xlabel('        control          polymer-modified         high-RAP      no-RAP', \n",
    "              fontsize=11, fontweight='bold', color='k')\n",
    "for i, idx in enumerate([4, 10, 16, 0, 2, 6, 8, 12, 14, 18]):\n",
    "    ax.text(XPositions[2*i+1], HTPGRes['HTPG_Mean'][idx+0] + HTPGRes['HTPG_Std'][idx+0] + 0.8, \n",
    "            f'{HTPGRes[\"HTPG_Mean\"][idx+0]:.1f}', ha='center', va='bottom', fontsize=9, rotation=90)\n",
    "    ax.text(XPositions[2*i+0], HTPGRes['HTPG_Mean'][idx+1] + HTPGRes['HTPG_Std'][idx+1] + 0.8, \n",
    "            f'{HTPGRes[\"HTPG_Mean\"][idx+1]:.1f}', ha='center', va='bottom', fontsize=9, rotation=90)\n",
    "ax.set_xlim([-1.0, 26.5])\n",
    "ax.grid(axis='y', color='gray', alpha=0.1)\n",
    "ax.legend(fontsize=11, ncol=1, loc='upper right')\n",
    "fig.tight_layout()\n",
    "# fig.savefig(os.path.join(OutputDir, f'Binder_HTPG.png'), format='png', dpi=1000)\n",
    "# fig.savefig(os.path.join(OutputDir, f'Binder_HTPG.svg'), format='svg')"
   ]
  },
  {
   "cell_type": "markdown",
   "id": "cefa133e",
   "metadata": {},
   "source": [
    "New figure including the statistical results. "
   ]
  },
  {
   "cell_type": "code",
   "execution_count": 20,
   "id": "b98d6ac7",
   "metadata": {},
   "outputs": [
    {
     "data": {
      "image/png": "[encoded data removed]",
      "text/plain": [
       "<Figure size 600x600 with 1 Axes>"
      ]
     },
     "metadata": {},
     "output_type": "display_data"
    }
   ],
   "source": [
    "fig, ax = plt.subplots(1, 1, figsize=(6, 6.0))\n",
    "ax.axvspan(xmin=-1,   xmax=7.0, color='gray', alpha=0.1)\n",
    "ax.axvspan(xmin=15.2, xmax=23.4, color='gray', alpha=0.1)\n",
    "XPositions = np.array([2.4 * i + j + 0.0 for i in range(0, 3) for j in range(2)] + \\\n",
    "                      [2.4 * i + j + 1.0 for i in range(3, 6) for j in range(2)] + \\\n",
    "                      [2.4 * i + j + 2.0 for i in range(6, 9) for j in range(2)] + \\\n",
    "                      [2.4 * i + j + 3.0 for i in range(9, 10) for j in range(2)])\n",
    "ax.bar(XPositions[::2], \n",
    "          height=HTPGRes['HTPG_Mean'].to_numpy()[[5, 11, 17, 1, 3, 7, 9, 13, 15, 19]], \n",
    "          yerr=HTPGRes['HTPG_Std'].to_numpy()[[5, 11, 17, 1, 3, 7, 9, 13, 15, 19]], \n",
    "          width=0.8, edgecolor='dimgray', lw=0.5, color='skyblue', hatch='//', label='Tank binder',\n",
    "          error_kw={'capsize': 4, 'capthick': 1.5, 'elinewidth': 1.5, 'ecolor': 'black'})\n",
    "ax.bar(XPositions[1::2], \n",
    "          height=HTPGRes['HTPG_Mean'].to_numpy()[[4, 10, 16, 0, 2, 6, 8, 12, 14, 18]], \n",
    "          yerr=HTPGRes['HTPG_Std'].to_numpy()[[4, 10, 16, 0, 2, 6, 8, 12, 14, 18]], \n",
    "          width=0.8, edgecolor='dimgray', lw=0.5, color='tomato', hatch='..', label='Recovered binder', \n",
    "          error_kw={'capsize': 4, 'capthick': 1.5, 'elinewidth': 1.5, 'ecolor': 'black'})\n",
    "ax.set_yticks([58, 64, 70, 76, 82, 88])\n",
    "ax.set_ylim([60, 90])\n",
    "ax.set_xticks(XPositions[::2] + 0.5)\n",
    "ax.set_xticklabels([f'L{i}' for i in [3, 6, 9, 1, 2, 4, 5, 7, 8, 10]], fontsize=10, color='k', rotation=0)\n",
    "ax.set_ylabel('HTPG (°C)', fontsize=12, fontweight='bold', color='k')\n",
    "ax.set_xlabel('        control          polymer-modified         high-RAP      no-RAP', \n",
    "              fontsize=11, fontweight='bold', color='k')\n",
    "for i, idx in enumerate([4, 10, 16, 0, 2, 6, 8, 12, 14, 18]):\n",
    "    ax.text(XPositions[2*i+1], HTPGRes['HTPG_Mean'][idx+0] + HTPGRes['HTPG_Std'][idx+0] + 0.8, \n",
    "            f'{HTPGRes[\"HTPG_Mean\"][idx+0]:.1f}', ha='center', va='bottom', fontsize=9, rotation=90)\n",
    "    ax.text(XPositions[2*i+0], HTPGRes['HTPG_Mean'][idx+1] + HTPGRes['HTPG_Std'][idx+1] + 0.8, \n",
    "            f'{HTPGRes[\"HTPG_Mean\"][idx+1]:.1f}', ha='center', va='bottom', fontsize=9, rotation=90)\n",
    "ax.set_xlim([-1.0, 26.5])\n",
    "ax.grid(axis='y', color='gray', alpha=0.1)\n",
    "ax.legend(fontsize=11, ncol=1, loc='upper right')\n",
    "# ax.text(0.01, 0.99, '(a)', transform=ax.transAxes, va='top', ha='left', fontsize=12, fontweight='bold')\n",
    "# ----------------------------------------------------------------------------------------------------------------------\n",
    "# Statistical table for tank binders.\n",
    "Class = [{'Positions': [5], 'Letter': 'A'}, {'Positions': [3], 'Letter': 'B'}, \n",
    "         {'Positions': [1, 2, 4, 6, 9], 'Letter': 'C'}, {'Positions': [1, 2, 6, 9], 'Letter': 'D'}, \n",
    "         {'Positions': [1, 2, 9], 'Letter': 'E'}, {'Positions': [0, 1, 2], 'Letter': 'F'}, \n",
    "         {'Positions': [2, 9], 'Letter': 'G'}, {'Positions': [7, 8], 'Letter': 'H'}, ]\n",
    "Y = 55\n",
    "for j in range(len(Class)):\n",
    "    for i in range(len(Class[j]['Positions'])):\n",
    "        ax.text(XPositions[Class[j]['Positions'][i]*2+0], Y, Class[j]['Letter'], ha='center', va='top', color='b')\n",
    "    Y -= 1.5        \n",
    "# Statistical table for recovered binders.\n",
    "Class = [{'Positions': [3, 5], 'Letter': 'α'}, {'Positions': [4, 8], 'Letter': 'β'}, \n",
    "         {'Positions': [0, 5, 6, 7, 8], 'Letter': 'γ'}, {'Positions': [1, 2, 6], 'Letter': 'δ'}, \n",
    "         {'Positions': [2, 7], 'Letter': 'ε'}, {'Positions': [9], 'Letter': 'ζ'}]\n",
    "Y = 55\n",
    "for j in range(len(Class)):\n",
    "    for i in range(len(Class[j]['Positions'])):\n",
    "        ax.text(XPositions[Class[j]['Positions'][i]*2+1], Y, Class[j]['Letter'], ha='left', va='top', color='r')\n",
    "    Y -= 1.5\n",
    "\n",
    "line1 = plt.Line2D((0.365, 0.365), (0.15, 0.35), color=\"k\", linewidth=0.5, linestyle=\"--\")\n",
    "line2 = plt.Line2D((0.622, 0.622), (0.15, 0.35), color=\"k\", linewidth=0.5, linestyle=\"--\")\n",
    "line3 = plt.Line2D((0.88, 0.88), (0.15, 0.35), color=\"k\", linewidth=0.5, linestyle=\"--\")\n",
    "fig.add_artist(line1)\n",
    "fig.add_artist(line2)\n",
    "fig.add_artist(line3)\n",
    "fig.tight_layout()\n",
    "# fig.savefig(os.path.join(OutputDir, f'Binder_HTPG.png'), format='png', dpi=1000)\n",
    "# fig.savefig(os.path.join(OutputDir, f'Binder_HTPG.svg'), format='svg')"
   ]
  },
  {
   "cell_type": "markdown",
   "id": "f47b8c57",
   "metadata": {},
   "source": [
    "_________\n",
    "\n",
    "### Perform the statistical analysis (Tukey's HSD post-hoc)"
   ]
  },
  {
   "cell_type": "code",
   "execution_count": 21,
   "id": "916b4237",
   "metadata": {},
   "outputs": [
    {
     "data": {
      "text/html": [
       "<div>\n",
       "<style scoped>\n",
       "    .dataframe tbody tr th:only-of-type {\n",
       "        vertical-align: middle;\n",
       "    }\n",
       "\n",
       "    .dataframe tbody tr th {\n",
       "        vertical-align: top;\n",
       "    }\n",
       "\n",
       "    .dataframe thead th {\n",
       "        text-align: right;\n",
       "    }\n",
       "</style>\n",
       "<table border=\"1\" class=\"dataframe\">\n",
       "  <thead>\n",
       "    <tr style=\"text-align: right;\">\n",
       "      <th></th>\n",
       "      <th>Group</th>\n",
       "      <th>Grouping_Tank</th>\n",
       "      <th>Grouping_Recovered</th>\n",
       "    </tr>\n",
       "  </thead>\n",
       "  <tbody>\n",
       "    <tr>\n",
       "      <th>0</th>\n",
       "      <td>L01</td>\n",
       "      <td>A</td>\n",
       "      <td>A</td>\n",
       "    </tr>\n",
       "    <tr>\n",
       "      <th>1</th>\n",
       "      <td>L02</td>\n",
       "      <td>B</td>\n",
       "      <td>B</td>\n",
       "    </tr>\n",
       "    <tr>\n",
       "      <th>2</th>\n",
       "      <td>L03</td>\n",
       "      <td>C</td>\n",
       "      <td>C</td>\n",
       "    </tr>\n",
       "    <tr>\n",
       "      <th>3</th>\n",
       "      <td>L04</td>\n",
       "      <td>D</td>\n",
       "      <td>A</td>\n",
       "    </tr>\n",
       "    <tr>\n",
       "      <th>4</th>\n",
       "      <td>L05</td>\n",
       "      <td>B,E</td>\n",
       "      <td>C,D</td>\n",
       "    </tr>\n",
       "    <tr>\n",
       "      <th>5</th>\n",
       "      <td>L06</td>\n",
       "      <td>C,E,F</td>\n",
       "      <td>D</td>\n",
       "    </tr>\n",
       "    <tr>\n",
       "      <th>6</th>\n",
       "      <td>L07</td>\n",
       "      <td>G</td>\n",
       "      <td>C,E</td>\n",
       "    </tr>\n",
       "    <tr>\n",
       "      <th>7</th>\n",
       "      <td>L08</td>\n",
       "      <td>C,G</td>\n",
       "      <td>B,C</td>\n",
       "    </tr>\n",
       "    <tr>\n",
       "      <th>8</th>\n",
       "      <td>L09</td>\n",
       "      <td>C,E,H</td>\n",
       "      <td>D,E</td>\n",
       "    </tr>\n",
       "    <tr>\n",
       "      <th>9</th>\n",
       "      <td>L10</td>\n",
       "      <td>B,F,H</td>\n",
       "      <td>F</td>\n",
       "    </tr>\n",
       "  </tbody>\n",
       "</table>\n",
       "</div>"
      ],
      "text/plain": [
       "  Group Grouping_Tank Grouping_Recovered\n",
       "0   L01             A                  A\n",
       "1   L02             B                  B\n",
       "2   L03             C                  C\n",
       "3   L04             D                  A\n",
       "4   L05           B,E                C,D\n",
       "5   L06         C,E,F                  D\n",
       "6   L07             G                C,E\n",
       "7   L08           C,G                B,C\n",
       "8   L09         C,E,H                D,E\n",
       "9   L10         B,F,H                  F"
      ]
     },
     "execution_count": 21,
     "metadata": {},
     "output_type": "execute_result"
    }
   ],
   "source": [
    "data_Tank      = {'value': [], 'group': []}\n",
    "data_Recovered = {'value': [], 'group': []}\n",
    "for ln in range(1, 11):\n",
    "    Tank      = HTPG[(HTPG['Lane'] == ln) & (HTPG['Field_Aging'] == 'Tank binder')]\n",
    "    Recovered = HTPG[(HTPG['Lane'] == ln) & (HTPG['Field_Aging'] == '0-Month')]\n",
    "    for i in range(len(Tank)):\n",
    "        if np.isnan(Tank.iloc[i]['HTPG']): continue\n",
    "        data_Tank['value'].append(Tank.iloc[i]['HTPG'])\n",
    "        data_Tank['group'].append(f'L{ln:02d}')\n",
    "    for i in range(len(Recovered)):\n",
    "        data_Recovered['value'].append(Recovered.iloc[i]['HTPG'])\n",
    "        data_Recovered['group'].append(f'L{ln:02d}')\n",
    "data_Tank      = pd.DataFrame(data_Tank)\n",
    "data_Recovered = pd.DataFrame(data_Recovered)\n",
    "Pairwise_Tank,      Grouping_Tank      = Tukey_Grouping(data_Tank)\n",
    "Pairwise_Recovered, Grouping_Recovered = Tukey_Grouping(data_Recovered)\n",
    "Grouping_Tank.rename(columns={'Grouping': 'Grouping_Tank'}, inplace=True)\n",
    "Grouping_Recovered.drop('Group', axis=1, inplace=True)\n",
    "Grouping_Recovered.rename(columns={'Grouping': 'Grouping_Recovered'}, inplace=True)\n",
    "pd.concat((Grouping_Tank, Grouping_Recovered), axis=1)"
   ]
  },
  {
   "cell_type": "markdown",
   "id": "aba1b51a",
   "metadata": {},
   "source": [
    "T-test analysis, considering all Tank binders together, against all recovered binders together. "
   ]
  },
  {
   "cell_type": "code",
   "execution_count": 22,
   "id": "3f974acb",
   "metadata": {},
   "outputs": [
    {
     "name": "stdout",
     "output_type": "stream",
     "text": [
      "Different in Tank and Recovered HTPG values: p-value: 1.562e-15\n"
     ]
    }
   ],
   "source": [
    "# perform t-test statistics. \n",
    "statistic, pval = ttest_ind(HTPG[HTPG['Field_Aging'] == '0-Month']['HTPG'].to_numpy(),\n",
    "                            HTPG[HTPG['Field_Aging'] == 'Tank binder']['HTPG'].to_numpy())\n",
    "print(f'Different in Tank and Recovered HTPG values: p-value: {pval:.3e}')"
   ]
  },
  {
   "cell_type": "markdown",
   "id": "1bab8b0a",
   "metadata": {},
   "source": [
    "T-test analysis, only for HTPG from tank and recovered binders from lane 4. "
   ]
  },
  {
   "cell_type": "code",
   "execution_count": 23,
   "id": "bfee0dd9",
   "metadata": {},
   "outputs": [
    {
     "name": "stdout",
     "output_type": "stream",
     "text": [
      "Different in Tank and Recovered HTPG values for lane 4: p-value: 0.002\n"
     ]
    }
   ],
   "source": [
    "statistic, pval = ttest_ind(HTPG[(HTPG['Field_Aging'] == '0-Month') & (HTPG['Lane'] == 4)]['HTPG'].to_numpy(),\n",
    "                            HTPG[(HTPG['Field_Aging'] == 'Tank binder') & (HTPG['Lane'] == 4)]['HTPG'].to_numpy())\n",
    "print(f'Different in Tank and Recovered HTPG values for lane 4: p-value: {pval:.3f}')"
   ]
  },
  {
   "cell_type": "markdown",
   "id": "85ba0641",
   "metadata": {},
   "source": [
    "T-test analysis, only for HTPG of tank binders in control mixtures (lanes 3, 6, and 9 combined) against lane 7 and against lane 8. "
   ]
  },
  {
   "cell_type": "code",
   "execution_count": 24,
   "id": "336badb2",
   "metadata": {},
   "outputs": [
    {
     "name": "stdout",
     "output_type": "stream",
     "text": [
      "Different in HTPG of Tank binders from control (lanes 3, 6, 9) against lane 7: p-value: 6.681e-06\n",
      "Different in HTPG of Tank binders from control (lanes 3, 6, 9) against lane 8: p-value: 1.425e-04\n"
     ]
    }
   ],
   "source": [
    "statistic, pval = ttest_ind(HTPG[(HTPG['Field_Aging'] == 'Tank binder') & (HTPG['Lane'].isin([3, 6, 9]))]['HTPG'].to_numpy(),\n",
    "                            HTPG[(HTPG['Field_Aging'] == 'Tank binder') & (HTPG['Lane'].isin([7]))]['HTPG'].to_numpy())\n",
    "print(f'Different in HTPG of Tank binders from control (lanes 3, 6, 9) against lane 7: p-value: {pval:.3e}')\n",
    "statistic, pval = ttest_ind(HTPG[(HTPG['Field_Aging'] == 'Tank binder') & (HTPG['Lane'].isin([3, 6, 9]))]['HTPG'].to_numpy(),\n",
    "                            HTPG[(HTPG['Field_Aging'] == 'Tank binder') & (HTPG['Lane'].isin([8]))]['HTPG'].to_numpy())\n",
    "print(f'Different in HTPG of Tank binders from control (lanes 3, 6, 9) against lane 8: p-value: {pval:.3e}')"
   ]
  },
  {
   "cell_type": "code",
   "execution_count": 25,
   "id": "e7a20c3d",
   "metadata": {},
   "outputs": [
    {
     "name": "stdout",
     "output_type": "stream",
     "text": [
      "Different in HTPG of recovered binders from control (lanes 3, 6, 9) against lane 7: p-value: 0.283\n",
      "Different in HTPG of recovered binders from control (lanes 3, 6, 9) against lane 8: p-value: 0.004\n"
     ]
    }
   ],
   "source": [
    "statistic, pval = ttest_ind(HTPG[(HTPG['Field_Aging'] == '0-Month') & (HTPG['Lane'].isin([3, 6, 9]))]['HTPG'].to_numpy(),\n",
    "                            HTPG[(HTPG['Field_Aging'] == '0-Month') & (HTPG['Lane'].isin([7]))]['HTPG'].to_numpy())\n",
    "print(f'Different in HTPG of recovered binders from control (lanes 3, 6, 9) against lane 7: p-value: {pval:.3f}')\n",
    "statistic, pval = ttest_ind(HTPG[(HTPG['Field_Aging'] == '0-Month') & (HTPG['Lane'].isin([3, 6, 9]))]['HTPG'].to_numpy(),\n",
    "                            HTPG[(HTPG['Field_Aging'] == '0-Month') & (HTPG['Lane'].isin([8]))]['HTPG'].to_numpy())\n",
    "print(f'Different in HTPG of recovered binders from control (lanes 3, 6, 9) against lane 8: p-value: {pval:.3f}')"
   ]
  },
  {
   "cell_type": "code",
   "execution_count": 26,
   "id": "c3403108",
   "metadata": {},
   "outputs": [],
   "source": [
    "# Save the HTPG results in a Pickle file, to study the correlations. \n",
    "pickle.dump(HTPG, open('./Data/ProcessedData_HTPG.pkl', 'wb'))"
   ]
  },
  {
   "cell_type": "code",
   "execution_count": null,
   "id": "7ed29bc5",
   "metadata": {},
   "outputs": [],
   "source": []
  }
 ],
 "metadata": {
  "kernelspec": {
   "display_name": "xxx",
   "language": "python",
   "name": "python3"
  },
  "language_info": {
   "codemirror_mode": {
    "name": "ipython",
    "version": 3
   },
   "file_extension": ".py",
   "mimetype": "text/x-python",
   "name": "python",
   "nbconvert_exporter": "python",
   "pygments_lexer": "ipython3",
   "version": "3.9.23"
  }
 },
 "nbformat": 4,
 "nbformat_minor": 5
}
